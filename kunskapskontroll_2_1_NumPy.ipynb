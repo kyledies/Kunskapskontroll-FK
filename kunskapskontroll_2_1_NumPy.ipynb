{
 "cells": [
  {
   "cell_type": "markdown",
   "id": "dacf74e6",
   "metadata": {},
   "source": [
    "# NumPy"
   ]
  },
  {
   "cell_type": "markdown",
   "id": "01b2bf34",
   "metadata": {},
   "source": [
    "Read the links: https://numpy.org/doc/stable/user/quickstart.html  and https://numpy.org/doc/stable/user/basics.broadcasting.html  before solving the exercises. "
   ]
  },
  {
   "cell_type": "code",
   "execution_count": 6,
   "id": "1f79e4a6",
   "metadata": {},
   "outputs": [
    {
     "data": {
      "text/plain": [
       "dtype('int32')"
      ]
     },
     "execution_count": 6,
     "metadata": {},
     "output_type": "execute_result"
    }
   ],
   "source": [
    "import numpy as np\n",
    "A = np.arange(1, 16).reshape(3,5)\n",
    "A.dtype\n"
   ]
  },
  {
   "cell_type": "markdown",
   "id": "7dae6889",
   "metadata": {},
   "source": [
    "### Print out the dimension (number of axes), shape, size and the datatype of the matrix A."
   ]
  },
  {
   "cell_type": "code",
   "execution_count": null,
   "id": "7b3678cd",
   "metadata": {},
   "outputs": [],
   "source": [
    "A = np.arange(1, 16).reshape(3,5)\n",
    "# Stores dimension, shape, size and datatype of A in dict below\n",
    "a_dict = dict(dimension = A.ndim,\n",
    "             shape = A.shape, \n",
    "             size = A.size,\n",
    "             datatype = A.dtype.name)\n",
    "\n",
    "# Prints key-value pairs\n",
    "print(f\"Below are the characteristics of our matrix A:\")\n",
    "print(A)\n",
    "for key, value in a_dict.items():\n",
    "    print(f\"{key}: {value}\")"
   ]
  },
  {
   "cell_type": "code",
   "execution_count": null,
   "id": "31d39235",
   "metadata": {},
   "outputs": [],
   "source": []
  },
  {
   "cell_type": "markdown",
   "id": "e56d2a96",
   "metadata": {},
   "source": [
    "### Do the following computations on the matrices B and C: \n",
    "* Elementwise subtraction. \n",
    "* Elementwise multiplication. \n",
    "* Matrix multiplication (by default you should use the @ operator)."
   ]
  },
  {
   "cell_type": "code",
   "execution_count": null,
   "id": "a7053fbb",
   "metadata": {},
   "outputs": [],
   "source": [
    "B = np.arange(1, 10).reshape(3, 3)\n",
    "C = np.ones((3, 3))*2\n",
    "\n",
    "print(B)\n",
    "print(C)\n",
    "print(\"Elementwise subtraction (B-C):\\n\",\n",
    "      B-C)\n",
    "print(\"Elementwise multiplication (B*C):\\n\",\n",
    "      B*C)\n",
    "print(\"Matrix multiplication (B x C):\\n\",\n",
    "      B@C)"
   ]
  },
  {
   "cell_type": "code",
   "execution_count": null,
   "id": "3cd794ae",
   "metadata": {},
   "outputs": [],
   "source": []
  },
  {
   "cell_type": "markdown",
   "id": "96030d53",
   "metadata": {},
   "source": [
    "### Do the following calculations on the matrix:\n",
    "* Exponentiate each number elementwise (use the np.exp function).\n",
    "\n",
    "* Calculate the minimum value in the whole matrix. \n",
    "* Calculcate the minimum value in each row. \n",
    "* Calculcate the minimum value in each column. \n",
    "\n",
    "\n",
    "* Find the index value for the minimum value in the whole matrix (hint: use np.argmin).\n",
    "* Find the index value for the minimum value in each row (hint: use np.argmin).\n",
    "\n",
    "\n",
    "* Calculate the sum for all elements.\n",
    "* Calculate the mean for each column. \n",
    "* Calculate the median for each column. "
   ]
  },
  {
   "cell_type": "code",
   "execution_count": null,
   "id": "f8a9166b",
   "metadata": {},
   "outputs": [],
   "source": [
    "B = np.arange(1, 10).reshape(3, 3)\n",
    "print(B)\n",
    "\n",
    "# Below for test\n",
    "# B = np.array([[44,88,3,5], [5, 99,30,300], [10, 45, 71, 101], [97, 75, 16, 1]])\n",
    "# print(B)\n",
    "\n",
    "# np.unravel_index(B.argmin(axis=1), B.shape)"
   ]
  },
  {
   "cell_type": "code",
   "execution_count": null,
   "id": "f03f24f7",
   "metadata": {},
   "outputs": [],
   "source": [
    "\n",
    "\n",
    "# Assumes that the calculations always should start on the original matrix.\n",
    "\n",
    "#Exponentiate each number elementwise (use the np.exp function).\n",
    "print(\"Each element in matrix calculated with np.exp: \\n\",\n",
    "      np.exp(B)) # Each number in the matrix exponentiated\n",
    "\n",
    "# Calculate the minimum value in the whole matrix.\n",
    "print(\"Minimum value in B: \\n\",\n",
    "      np.min(B)) # Minimum value in B\n",
    "\n",
    "# Calculcate the minimum value in each row.\n",
    "print(\"Minimum value in each row: \\n\",\n",
    "      np.min(B, axis=1)) # Minimum values in each row\n",
    "\n",
    "#Calculcate the minimum value in each column.\n",
    "print(\"Minimum value in each column: \\n\",\n",
    "      np.min(B, axis=0)) # Minimum values in each column \n",
    "\n",
    "#Find the index value for the minimum value in the whole matrix \n",
    "# Below i used some numpy functions to enable correct dimension of the indexes\n",
    "print(\"Index in B for smallest value: \\n\",\n",
    "      np.unravel_index(np.argmin(B), B.shape)) # Minimum values in each column. B.argmin() gives index in 1D. \n",
    "                                             # Works nice on multi-dimensional arrays too\n",
    "\n",
    "\n",
    "# Find the index value for the minimum value in each row\n",
    "col_idx = np.argmin(B, axis=1) # retrieve column index for min values of each row\n",
    "print(col_idx)\n",
    "row_idx = np.arange(B.shape[0]) # generates the row indexes from B\n",
    "idx = list(zip(row_idx, col_idx))\n",
    "\n",
    "print(\"Index of minimum value for each row:\\n\",\n",
    "     idx)\n",
    "\n",
    "# Calculate the sum for all elements.\n",
    "print(\"The sum for all elements in B is:\\n\",\n",
    "    np.sum(B))\n",
    "\n",
    "# Calculate the mean for each column.\n",
    "print(\"The mean for each column in B is:\\n\",\n",
    "    np.mean(B, axis=0))\n",
    "\n",
    "# Calculate the median for each column.\n",
    "print(\"The median for each column in B is:\\n\",\n",
    "    np.median(B, axis=0))"
   ]
  },
  {
   "cell_type": "code",
   "execution_count": null,
   "id": "ae34d62c-c6a4-417f-95d0-ec85042918fd",
   "metadata": {},
   "outputs": [],
   "source": []
  },
  {
   "cell_type": "markdown",
   "id": "541eb7ba",
   "metadata": {},
   "source": [
    "### What does it mean when you provide fewer indices than axes when slicing? See example below."
   ]
  },
  {
   "cell_type": "code",
   "execution_count": 8,
   "id": "9c8abf56",
   "metadata": {},
   "outputs": [
    {
     "name": "stdout",
     "output_type": "stream",
     "text": [
      "[[ 1  2  3  4  5]\n",
      " [ 6  7  8  9 10]\n",
      " [11 12 13 14 15]]\n"
     ]
    }
   ],
   "source": [
    "print(A)"
   ]
  },
  {
   "cell_type": "code",
   "execution_count": 10,
   "id": "69415f7b",
   "metadata": {},
   "outputs": [
    {
     "data": {
      "text/plain": [
       "array([ 6,  7,  8,  9, 10])"
      ]
     },
     "execution_count": 10,
     "metadata": {},
     "output_type": "execute_result"
    }
   ],
   "source": [
    "A[1]"
   ]
  },
  {
   "cell_type": "markdown",
   "id": "6c53541b",
   "metadata": {},
   "source": [
    "**Answer:**"
   ]
  },
  {
   "cell_type": "markdown",
   "id": "e0335347-9e56-4742-919a-936acdbd623c",
   "metadata": {},
   "source": [
    "**In this case, A is a two dimensional array.\n",
    "So if we only gives a number as above (A[1]) it returns the first dimensions corresponding elements.\n",
    "In this case, dim 0 is rows, and 1 corresponds to row 2 -> The second row is returned from array A.\n",
    "For e.g. multidimensional array X with shape (10x40x3x5) X[1] would return the second block (dim=0), 40x3x5 (40 sets of 3x5 matrixes).\n",
    "By using \":\" to specify dimension, we can extract what we want, e.g. X[:, 0] gives the first matrix in each of the 40 sets.**"
   ]
  },
  {
   "cell_type": "markdown",
   "id": "6652d0c9",
   "metadata": {},
   "source": [
    "### Iterating over multidimensional arrays is done with respect to the first axis, so in the example below we iterate trough the rows. If you would like to iterate through the array *elementwise*, how would you do that?"
   ]
  },
  {
   "cell_type": "code",
   "execution_count": 12,
   "id": "9459864f",
   "metadata": {},
   "outputs": [
    {
     "data": {
      "text/plain": [
       "array([[ 1,  2,  3,  4,  5],\n",
       "       [ 6,  7,  8,  9, 10],\n",
       "       [11, 12, 13, 14, 15]])"
      ]
     },
     "execution_count": 12,
     "metadata": {},
     "output_type": "execute_result"
    }
   ],
   "source": [
    "A"
   ]
  },
  {
   "cell_type": "code",
   "execution_count": 14,
   "id": "a671bb5a",
   "metadata": {},
   "outputs": [
    {
     "name": "stdout",
     "output_type": "stream",
     "text": [
      "[1 2 3 4 5]\n",
      "[ 6  7  8  9 10]\n",
      "[11 12 13 14 15]\n"
     ]
    }
   ],
   "source": [
    "for i in A:\n",
    "    print(i)\n"
   ]
  },
  {
   "cell_type": "code",
   "execution_count": 16,
   "id": "f4e443a0",
   "metadata": {},
   "outputs": [
    {
     "name": "stdout",
     "output_type": "stream",
     "text": [
      "1\n",
      "2\n",
      "3\n",
      "4\n",
      "5\n",
      "6\n",
      "7\n",
      "8\n",
      "9\n",
      "10\n",
      "11\n",
      "12\n",
      "13\n",
      "14\n",
      "15\n",
      "1\n",
      "2\n",
      "3\n",
      "4\n",
      "5\n",
      "6\n",
      "7\n",
      "8\n",
      "9\n",
      "10\n",
      "11\n",
      "12\n",
      "13\n",
      "14\n",
      "15\n",
      "1\n",
      "2\n",
      "3\n",
      "4\n",
      "5\n",
      "6\n",
      "7\n",
      "8\n",
      "9\n",
      "10\n",
      "11\n",
      "12\n",
      "13\n",
      "14\n",
      "15\n",
      "1\n",
      "2\n",
      "3\n",
      "4\n",
      "5\n",
      "6\n",
      "7\n",
      "8\n",
      "9\n",
      "10\n",
      "11\n",
      "12\n",
      "13\n",
      "14\n",
      "15\n"
     ]
    }
   ],
   "source": [
    "# One way would be to do a for-loop with respect to the shape of A\n",
    "for row in range(A.shape[0]):\n",
    "    for col in range(A.shape[1]):\n",
    "        print(A[row, col])\n",
    "\n",
    "# Approach above not good for elementwise iterations - many dimensions leads to nested for-loops\n",
    "\n",
    "# We can use numpys flat-attribute:\n",
    "for element in A.flat:\n",
    "    print(element)\n",
    "    \n",
    "# We can use numpys ravel() method:\n",
    "for element in A.ravel():\n",
    "    print(element)\n",
    "\n",
    "# We can use numpys nditer() method:\n",
    "for element in np.nditer(A):\n",
    "    print(element)\n"
   ]
  },
  {
   "cell_type": "markdown",
   "id": "608a2583",
   "metadata": {},
   "source": [
    "### Explain what the code below does. More specifically, b has three axes - what does this mean? "
   ]
  },
  {
   "cell_type": "code",
   "execution_count": 22,
   "id": "f8f9b26f",
   "metadata": {},
   "outputs": [
    {
     "name": "stdout",
     "output_type": "stream",
     "text": [
      "[ 0  1  2  3  4  5  6  7  8  9 10 11 12 13 14 15 16 17 18 19 20 21 22 23\n",
      " 24 25 26 27 28 29]\n",
      "[[[ 0  1  2  3  4]\n",
      "  [ 5  6  7  8  9]\n",
      "  [10 11 12 13 14]]\n",
      "\n",
      " [[15 16 17 18 19]\n",
      "  [20 21 22 23 24]\n",
      "  [25 26 27 28 29]]]\n"
     ]
    },
    {
     "data": {
      "text/plain": [
       "array([[ 5.,  6.,  7.,  8.,  9.],\n",
       "       [20., 21., 22., 23., 24.]])"
      ]
     },
     "execution_count": 22,
     "metadata": {},
     "output_type": "execute_result"
    }
   ],
   "source": [
    "a = np.arange(30)\n",
    "b = a.reshape((2, 3, -1))\n",
    "print(a)\n",
    "print(b)\n",
    "\n",
    "b.mean(axis=1)"
   ]
  },
  {
   "cell_type": "markdown",
   "id": "595b999d-e106-4a0c-9ce2-89f04460053c",
   "metadata": {},
   "source": [
    "**a is here a 1x30 array. reshape is used to create b, where the values: 2,3,-1 in the call means:\n",
    "Create 2 matrixes, each having 3 rows, adjust the number of columns to match the data (-1)\n",
    "In this case we get b.shape = (2,3,5)\n",
    "Theese dimensions correspond to axes/dimensions 0, 1, 2, that are used to perform calculations or extract data.\n",
    "E.g. \n",
    "b[0] brings the element for the first dimension: matrix 1.\n",
    "b[:,0] gives the first row for matrix 1 and 2.\n",
    "b[1,:,3] gives the fourth column of the matrix in the second group\n",
    "For calculations - the axis 0,1,2 determine how these are performed. In our case:\n",
    "b.mean(axis=0) means that the answer will be shaped (3,5) \n",
    "    -The mean value of b[0,:,:] and b[1,:,:]... So the answer is one matrix\n",
    "b.mean(axis=1) means that the answer will be shaped(2,5) -First row mean values for matrix1, second for matrix 2\n",
    "    -The mean value over each column for each matrix (values added vertically)\n",
    "b.mean(axis=2) means that the answer will be shaped(2,3) - First row for matrix 1, second for matrix 2\n",
    "    -The mean value over each row for each matrix (values added horisontally)\n",
    "\n",
    "**"
   ]
  },
  {
   "cell_type": "code",
   "execution_count": null,
   "id": "eed38bbb-dd20-4d23-837f-679aa3d3a067",
   "metadata": {},
   "outputs": [],
   "source": []
  },
  {
   "cell_type": "markdown",
   "id": "421c9607-819a-401d-949a-97424436fe29",
   "metadata": {},
   "source": [
    "# For the exercises below, read the document *\"matematik_yh_antonio_vektorer_matriser_utdrag\"*\n",
    "# Solutions to the exercises and recorded videos can be found here: https://github.com/AntonioPrgomet/matematik_foer_yh\n",
    "\n",
    "# If you find the exercises below very hard, do not worry. Try your best, that will be enough. "
   ]
  },
  {
   "cell_type": "markdown",
   "id": "ab5933d5",
   "metadata": {},
   "source": [
    "### Broadcasting\n",
    "**Read the following link about broadcasting: https://numpy.org/doc/stable/user/basics.broadcasting.html#basics-broadcasting**"
   ]
  },
  {
   "cell_type": "markdown",
   "id": "039805ba",
   "metadata": {},
   "source": [
    "# Remark on Broadcasting when doing Linear Algebra calculations in Python. "
   ]
  },
  {
   "cell_type": "markdown",
   "id": "c4bcc147",
   "metadata": {},
   "source": [
    "### From the mathematical rules of matrix addition, the operation below (m1 + m2) does not make sense. The reason is that matrix addition requires two matrices of the same size. In Python however, it works due to broadcasting rules in NumPy. So you must be careful when doing Linear Algebra calculations in Python since they do not follow the \"mathematical rules\". This can however easily be handled by doing some simple programming, for example validating that two matrices have the same shape is easy if you for instance want to add two matrices. "
   ]
  },
  {
   "cell_type": "code",
   "execution_count": null,
   "id": "1fd46778",
   "metadata": {},
   "outputs": [],
   "source": [
    "m1 = np.array([[1, 2], [3, 4]])\n",
    "m2 = np.array([1, 1])\n",
    "print(m1 + m2)"
   ]
  },
  {
   "cell_type": "markdown",
   "id": "047d6576",
   "metadata": {},
   "source": [
    "### The example below would also not be allowed if following the \"mathematical rules\" in Linear Algebra. But it works due to broadcasting in NumPy. "
   ]
  },
  {
   "cell_type": "code",
   "execution_count": null,
   "id": "5e6ef2e4",
   "metadata": {},
   "outputs": [],
   "source": [
    "v1 = np.array([1, 2, 3])\n",
    "print(v1 + 1)"
   ]
  },
  {
   "cell_type": "code",
   "execution_count": null,
   "id": "e2cbae26",
   "metadata": {},
   "outputs": [],
   "source": [
    "A = np.arange(1, 5).reshape(2,2)\n",
    "print(A)\n",
    "\n",
    "b = np.array([2, 2])\n",
    "print(b)"
   ]
  },
  {
   "cell_type": "markdown",
   "id": "722fd5cd",
   "metadata": {},
   "source": [
    "# Vector- and matrix algebra Exercises"
   ]
  },
  {
   "cell_type": "markdown",
   "id": "b63a3081-d976-4d9f-bfd0-a63917e79f7d",
   "metadata": {},
   "source": [
    "**Now you are going to create a function that can be reused every time you add or multiply matrices. The function is created so that we do the addition and multiplication according to the rules of vector- and matrix algebra.**\n",
    "\n",
    "**Create a function \"add_mult_matrices\" that takes two matrices as input arguments (validate that the input are of the type numpy.ndarray by using the isinstance function), a third argument that is either 'add' or 'multiply' that specifies if you want to add or multiply the matrices (validate that the third argument is either 'add' or 'multiply'). When doing matrix addition, validate that the matrices have the same size. When doing matrix multiplication, validate that the sizes conform (i.e. number of columns in the first matrix is equal to the number of rows in the second matrix).**"
   ]
  },
  {
   "cell_type": "code",
   "execution_count": 30,
   "id": "3506f977-ac0a-473f-85bc-eec9f35dc498",
   "metadata": {},
   "outputs": [],
   "source": [
    "def add_mult_matrices(mat_1, mat_2, /, calc_method):\n",
    "    if isinstance(mat_1, np.ndarray) and isinstance(mat_2, np.ndarray):\n",
    "        if calc_method.lower() == \"add\":\n",
    "            if mat_1.shape == mat_2.shape:\n",
    "                print(\"The result of the addition is \\n\",\n",
    "                mat_1 + mat_2)\n",
    "            else:\n",
    "                print(\"Matrices need to be of same size when choosing addition!\")\n",
    "                \n",
    "        elif calc_method.lower() == \"multiply\":\n",
    "            if mat_1.shape[1] == mat_2.shape[0]: # checks if matrix multiplication is possible\n",
    "                 print(\"The result of the matrix multiplication is \\n\",\n",
    "                mat_1 @ mat_2)\n",
    "            else:\n",
    "                print(\"Matrix multiplication not possible. Ensure that #columns in matrix 1 equals #rows in matrix 2\")\n",
    "        else:\n",
    "            print(\"Please type in 'add' for addition, or 'multiply' for multiplication!\")\n",
    "    else: \n",
    "        print(\"Both arrays need to be a numpy array\")"
   ]
  },
  {
   "cell_type": "code",
   "execution_count": 70,
   "id": "817fed5c-5e45-4861-a5b1-3a83de0bd276",
   "metadata": {},
   "outputs": [
    {
     "name": "stdout",
     "output_type": "stream",
     "text": [
      "[[1 2 3]\n",
      " [4 5 6]\n",
      " [7 8 9]]\n",
      "[[21 22 23]\n",
      " [24 25 26]\n",
      " [27 28 29]]\n",
      "The result of the matrix multiplication is \n",
      " [[150 156 162]\n",
      " [366 381 396]\n",
      " [582 606 630]]\n"
     ]
    }
   ],
   "source": [
    "# Here we can test my function above with addition of matrices\n",
    "# Addition works fine when correct size of matrices\n",
    "m1 = np.arange(1, 10).reshape(3,3)\n",
    "m2 = np.arange(21, 30).reshape(3,3)\n",
    "\n",
    "print(m1)\n",
    "print(m2)\n",
    "add_mult_matrices(m1, m2, \"multiply\")\n",
    "\n",
    "#Doesn't work when m1 and m2 hasn't the correct dimensions\n",
    "# m1 = np.arange(1, 21).reshape(2,10)\n",
    "# m2 = np.arange(21, 30).reshape(3,3)\n",
    "# add_mult_matrices(m1, m2, \"ADD\")\n",
    "\n",
    "# Check case  [[]]\n",
    "\n"
   ]
  },
  {
   "cell_type": "code",
   "execution_count": 33,
   "id": "644efd87-84e9-4fe3-84e8-0e56a4ffa9df",
   "metadata": {},
   "outputs": [
    {
     "name": "stdout",
     "output_type": "stream",
     "text": [
      "[[1 2]\n",
      " [3 4]\n",
      " [5 6]]\n",
      "[[ 0  1  2  3]\n",
      " [ 4  5  6  7]\n",
      " [ 8  9 10 11]\n",
      " [12 13 14 15]]\n",
      "Matrix multiplication not possible. Ensure that #columns in matrix 1 equals #rows in matrix 2\n"
     ]
    }
   ],
   "source": [
    "# Here we can test my function above with matrix multiplication\n",
    "\n",
    "# Matrix multiplication works fine when correct dimensions \n",
    "m1 = np.arange(1, 7).reshape(3,2)\n",
    "m2 = np.arange(21, 27).reshape(2,3)\n",
    "print(m1)\n",
    "print(m2)\n",
    "add_mult_matrices(m1, m2, \"multiply\")\n",
    "\n",
    "# Doesn't work well when m1.shape[1] != m2.shape[0]\n",
    "# m1 = np.arange(1, 7).reshape(3,2)\n",
    "# m2 = np.arange(0, 16).reshape(4,4)\n",
    "# print(m1)\n",
    "# print(m2)\n",
    "# add_mult_matrices(m1, m2, \"multiply\")\n"
   ]
  },
  {
   "cell_type": "markdown",
   "id": "8dad82d0-2359-4dff-8f5b-a57d3e34103c",
   "metadata": {},
   "source": [
    "### Solve all the exercises in chapter 10.1 in the book \"Matematik för yrkeshögskolan\". "
   ]
  },
  {
   "cell_type": "code",
   "execution_count": 42,
   "id": "89df88af-3668-4d98-a0a4-e6d92eea0f89",
   "metadata": {},
   "outputs": [
    {
     "name": "stdout",
     "output_type": "stream",
     "text": [
      "10.1.1\n",
      "b) [20 15]\n",
      "c) [12  9]\n",
      "d) [32 24]\n",
      "e) [32 24]\n",
      "f) [12  9]\n",
      "g) [4 3]\n",
      "h) [8 6]  which is incorrect, arrays must have equal size when adding\n",
      "i) 5.0\n",
      "10.1.2\n",
      "b) [ 6 14  0 22]\n",
      "c) [21 49  0 77]\n",
      "d) [ 6 14  0 22]\n",
      "e) [ 3  7  0 11]\n",
      "f) 13.379088160259652\n",
      "10.1.3\n",
      "a) 7.14142842854285\n",
      "b) 4.47213595499958\n"
     ]
    }
   ],
   "source": [
    "# Solved by programming - I solved it by hand too.\n",
    "\n",
    "#10.1.1\n",
    "print(\"10.1.1\")\n",
    "x = np.array([4,3])\n",
    "#a -dimension\n",
    "# The dimension of x is 1x2 - numpy sees it as a 1D though. x = np.array([[4,3]]) makes it have the 1x2 shape here..\n",
    "\n",
    "#b 5x is:\n",
    "print(\"b)\",5*x)\n",
    "\n",
    "#c 3x is:\n",
    "print(\"c)\",3*x)\n",
    "\n",
    "#d 5x + 3x is:\n",
    "print(\"d)\",5*x+3*x)\n",
    "\n",
    "#e 8x is:\n",
    "print(\"e)\",8*x)\n",
    "\n",
    "#f 4x-x is:\n",
    "print(\"f)\",4*x-x)\n",
    "\n",
    "#g x transposed is not visually obtainable when x defined as above. \n",
    "#correct dimension for x transposed is 2x1.\n",
    "print(\"g)\",x.T)\n",
    "\n",
    "#h x + x transposed is:\n",
    "print(\"h)\",x+x.T, \" which is incorrect, arrays must have equal size when adding\") \n",
    "\n",
    "#i norm of x\n",
    "print(\"i)\", np.linalg.norm(x))\n",
    "\n",
    "print(\"10.1.2\")\n",
    "v = np.array([3, 7, 0, 11]) # v defined in 1D\n",
    "\n",
    "# a) the dimension for v is 4x1\n",
    "\n",
    "# task b-d the result presented in 1D... mathematical they are in 4x1-shape!\n",
    "#b 2v is: \n",
    "print(\"b)\",2*v) \n",
    "\n",
    "#c 5v+2v is: \n",
    "print(\"c)\",5*v+2*v)\n",
    "\n",
    "#d 4v-2v is: \n",
    "print(\"d)\",4*v-2*v)\n",
    "\n",
    "#e v transposed is not visually obtainable when v defined as above. \n",
    "#correct dimension for v transposed is 1x4.\n",
    "print(\"e)\",v.T)\n",
    "\n",
    "#f norm of v\n",
    "print(\"f)\", np.linalg.norm(v))\n",
    "\n",
    "print(\"10.1.3\")\n",
    "\n",
    "#10.1.3\n",
    "v1 = np.array([4, 3, 1, 5])\n",
    "v2 = np.array([2, 3, 1, 1])\n",
    "#a norm of v1\n",
    "print(\"a)\", np.linalg.norm(v1))\n",
    "\n",
    "#b norm of v1\n",
    "print(\"b)\", np.linalg.norm(v1-v2))\n",
    "\n",
    "\n"
   ]
  },
  {
   "cell_type": "markdown",
   "id": "75c98984-1f88-4df1-b850-d2466de444a5",
   "metadata": {},
   "source": [
    "### Solve all the exercises, except 10.2.4, in chapter 10.2 in the book \"Matematik för yrkeshögskolan\". "
   ]
  },
  {
   "cell_type": "code",
   "execution_count": 44,
   "id": "ba5b2f67-7169-4923-aa74-a477101b5f60",
   "metadata": {},
   "outputs": [
    {
     "data": {
      "text/plain": [
       "array([[10, 11],\n",
       "       [-1,  1],\n",
       "       [ 1, -1]])"
      ]
     },
     "execution_count": 44,
     "metadata": {},
     "output_type": "execute_result"
    }
   ],
   "source": [
    "A = np.array([[2, 1, -1],[1, -1, 1]])\n",
    "B = np.array([[4, -2, 1],[2, -4, -2]])\n",
    "C = np.array([[1, 2],[2, 1]])\n",
    "D = np.array([[3, 4],[4, 3]])\n",
    "E = np.array([[1],[2]])\n",
    "I = np.array([[1, 0],[0, 1]])\n",
    "A.T @ D"
   ]
  },
  {
   "cell_type": "code",
   "execution_count": 113,
   "id": "65371610-16e1-48b2-b7fb-65e49002608a",
   "metadata": {},
   "outputs": [
    {
     "name": "stdout",
     "output_type": "stream",
     "text": [
      "10.2.1\n",
      "a) [[ 4  2 -2]\n",
      " [ 2 -2  2]]\n",
      "b) [[ 0 -4  3]\n",
      " [ 0 -2 -4]]\n",
      "c) [[ 1  4]\n",
      " [ 2 -1]] mathematically not possible. Here ok due to broadcasting\n",
      "d) [[3 2]\n",
      " [2 3]]\n",
      "e) [[ 9 12]\n",
      " [12  9]]\n",
      "f) [[44 40]\n",
      " [40 44]]\n",
      "g) Not possible due to different shapes.\n",
      "h) Not possible due to #colums in A != #rows in B\n",
      "i) [[11 10]\n",
      " [10 11]]\n",
      "j) [[  8 -10  -3]\n",
      " [ 10  -8   0]]\n",
      "k) [[1 2]\n",
      " [2 1]]\n",
      "l) [[5 2]\n",
      " [7 4]]\n"
     ]
    }
   ],
   "source": [
    "# Made the tasks with pen an paper, and here..\n",
    "print(\"10.2.1\")\n",
    "A = np.array([[2, 1, -1],[1, -1, 1]])\n",
    "B = np.array([[4, -2, 1],[2, -4, -2]])\n",
    "C = np.array([[1, 2],[2, 1]])\n",
    "D = np.array([[3, 4],[4, 3]])\n",
    "E = np.array([[1],[2]])\n",
    "I = np.array([[1, 0],[0, 1]])\n",
    "# print(\"A: \",A)\n",
    "# print(\"B: \",B)\n",
    "# print(\"C: \",C)\n",
    "# print(\"D: \",D)\n",
    "# print(\"E: \",E)\n",
    "# print(\"I: \",I)\n",
    "\n",
    "#(a) 2A\n",
    "print(\"a)\",2*A)\n",
    "\n",
    "# (b) B − 2A\n",
    "print(\"b)\",B-2*A)\n",
    "\n",
    "# (c) 3C − 2E\n",
    "print(\"c)\",3*C-2*E, \"mathematically not possible. Here ok due to broadcasting\")\n",
    "\n",
    "# (d) 2D − 3C\n",
    "print(\"d)\",2*D-3*C)\n",
    "\n",
    "# (e) D⊤ + 2D\n",
    "print(\"e)\",D.T + 2*D)\n",
    "\n",
    "# (f) 2C⊤ − 2D⊤\n",
    "print(\"f)\", 2*C.T@(2*D.T))\n",
    "\n",
    "#  (g) A⊤ − B\n",
    "print(\"g) Not possible due to different shapes.\")\n",
    "\n",
    "# # (h) AC\n",
    "print(\"h) Not possible due to #colums in A != #rows in B\")\n",
    "\n",
    "# # (i) CD\n",
    "print(\"i)\",C @ D)\n",
    "\n",
    "# (j) CB\n",
    "print(\"j)\",C @ B)\n",
    "\n",
    "# (k) CI\n",
    "print(\"k)\",C @ I)\n",
    "\n",
    "# (l) AB⊤\n",
    "print(\"l)\",A @ B.T)"
   ]
  },
  {
   "cell_type": "code",
   "execution_count": 119,
   "id": "79381580-6962-4858-a6d5-7caa9da5a559",
   "metadata": {},
   "outputs": [
    {
     "name": "stdout",
     "output_type": "stream",
     "text": [
      "A x A.t is: \n",
      " [[29 26]\n",
      " [26 42]]\n"
     ]
    }
   ],
   "source": [
    "#10.2.2 \n",
    "A = np.array([[2, 3, 4],[5, 4, 1]])\n",
    "print(\"A x A.t is: \\n\", A @ A.T)"
   ]
  },
  {
   "cell_type": "code",
   "execution_count": 120,
   "id": "b753b18c-e0e9-432e-8541-b5f503baaf5f",
   "metadata": {},
   "outputs": [
    {
     "name": "stdout",
     "output_type": "stream",
     "text": [
      "AB equals AC:\n",
      " [[ True  True]\n",
      " [ True  True]]\n",
      "B doesn't equal C: \n",
      " [[False False]\n",
      " [False False]]\n"
     ]
    }
   ],
   "source": [
    "#10.2.3\n",
    "A = np.array([[1, 2],[2, 4]])\n",
    "B = np.array([[2, 1],[1, 3]])\n",
    "C = np.array([[4, 3],[0, 2]])\n",
    "print(\"AB equals AC:\\n\", (A @ B) == (A @ C))\n",
    "print(\"B doesn't equal C: \\n\", B == C)\n",
    "\n"
   ]
  },
  {
   "cell_type": "markdown",
   "id": "6a4a524f",
   "metadata": {},
   "source": [
    "### Copies and Views\n",
    "Read the following link: https://numpy.org/doc/stable/user/basics.copies.html"
   ]
  },
  {
   "cell_type": "markdown",
   "id": "6cbbeaf7",
   "metadata": {},
   "source": [
    "**Basic indexing creates a view, How can you check if v1 and v2 is a view or copy? If you change the last element in v2 to 123, will the last element in v1 be changed? Why?**"
   ]
  },
  {
   "cell_type": "code",
   "execution_count": 56,
   "id": "5b9ef4df",
   "metadata": {},
   "outputs": [
    {
     "name": "stdout",
     "output_type": "stream",
     "text": [
      "[0 1 2 3]\n",
      "[2 3]\n",
      "[  0   1   2 123]\n",
      "[  2 123]\n",
      "The operation above created a view.\n"
     ]
    }
   ],
   "source": [
    "# If we change v1, v2 will change as well if it's a view, otherwise it's a copy\n",
    "\n",
    "v1 = np.arange(4)\n",
    "#v2 = v1.reshape(2,2)\n",
    "v2 = v1[-2:] #Slicing - the second value from end to end.\n",
    "print(v1)\n",
    "print(v2)\n",
    "\n",
    "v1[-1] = 123 #No copy/view. Assignment happens in place\n",
    "\n",
    "print(v1)\n",
    "print(v2)\n",
    "\n",
    "# Since v2 changed when we did the change to v1 - v2 is a view.\n",
    "\n",
    "#The base attribute can be used to check whether an array is a view or a copy of an array\n",
    "\n",
    "if v2.base is v1:\n",
    "    print(\"The operation above created a view.\")\n",
    "else:\n",
    "    print(\"The operation above created a copy.\")\n"
   ]
  },
  {
   "cell_type": "code",
   "execution_count": null,
   "id": "d2440489",
   "metadata": {},
   "outputs": [],
   "source": [
    "# The base attribute of a view returns the original array while it returns None for a copy.\n",
    "print(v1.base)\n",
    "print(v2.base)"
   ]
  },
  {
   "cell_type": "code",
   "execution_count": null,
   "id": "c8752807",
   "metadata": {},
   "outputs": [],
   "source": [
    "# The last element in v1 will be changed aswell since v2 is a view, meaning they share the same data buffer.\n",
    "v2[-1] = 123\n",
    "print(v1)\n",
    "print(v2)"
   ]
  },
  {
   "cell_type": "code",
   "execution_count": null,
   "id": "3dd68221",
   "metadata": {},
   "outputs": [],
   "source": []
  }
 ],
 "metadata": {
  "kernelspec": {
   "display_name": "Python 3 (ipykernel)",
   "language": "python",
   "name": "python3"
  },
  "language_info": {
   "codemirror_mode": {
    "name": "ipython",
    "version": 3
   },
   "file_extension": ".py",
   "mimetype": "text/x-python",
   "name": "python",
   "nbconvert_exporter": "python",
   "pygments_lexer": "ipython3",
   "version": "3.12.7"
  }
 },
 "nbformat": 4,
 "nbformat_minor": 5
}
